{
  "nbformat": 4,
  "nbformat_minor": 0,
  "metadata": {
    "colab": {
      "provenance": [],
      "include_colab_link": true
    },
    "kernelspec": {
      "name": "python3",
      "display_name": "Python 3"
    },
    "language_info": {
      "name": "python"
    },
    "accelerator": "GPU"
  },
  "cells": [
    {
      "cell_type": "markdown",
      "metadata": {
        "id": "view-in-github",
        "colab_type": "text"
      },
      "source": [
        "<a href=\"https://colab.research.google.com/github/numoworld/learnpytorchio/blob/main/05_pytorch_going_modular_exercise_template.ipynb\" target=\"_parent\"><img src=\"https://colab.research.google.com/assets/colab-badge.svg\" alt=\"Open In Colab\"/></a>"
      ]
    },
    {
      "cell_type": "markdown",
      "source": [
        "# 05. PyTorch Going Modular Exercises\n",
        "\n",
        "Welcome to the 05. PyTorch Going Modular exercise template notebook.\n",
        "\n",
        "There are several questions in this notebook and it's your goal to answer them by writing Python and PyTorch code.\n",
        "\n",
        "> **Note:** There may be more than one solution to each of the exercises, don't worry too much about the *exact* right answer. Try to write some code that works first and then improve it if you can.\n",
        "\n",
        "## Resources and solutions\n",
        "\n",
        "* These exercises/solutions are based on [section 05. PyTorch Going Modular](https://www.learnpytorch.io/05_pytorch_going_modular/) of the Learn PyTorch for Deep Learning course by Zero to Mastery.\n",
        "\n",
        "**Solutions:** \n",
        "\n",
        "Try to complete the code below *before* looking at these.\n",
        "\n",
        "* See a live [walkthrough of the solutions (errors and all) on YouTube](https://youtu.be/ijgFhMK3pp4).\n",
        "* See an example [solutions notebook for these exercises on GitHub](https://github.com/mrdbourke/pytorch-deep-learning/blob/main/extras/solutions/05_pytorch_going_modular_exercise_solutions.ipynb)."
      ],
      "metadata": {
        "id": "zNqPNlYylluR"
      }
    },
    {
      "cell_type": "markdown",
      "source": [
        "## 1. Turn the code to get the data (from section 1. Get Data) into a Python script, such as `get_data.py`.\n",
        "\n",
        "* When you run the script using `python get_data.py` it should check if the data already exists and skip downloading if it does.\n",
        "* If the data download is successful, you should be able to access the `pizza_steak_sushi` images from the `data` directory."
      ],
      "metadata": {
        "id": "bicbWSrPmfTU"
      }
    },
    {
      "cell_type": "code",
      "source": [
        "# YOUR CODE HERE\n",
        "%%writefile get_data.py\n",
        "\n",
        "import requests\n",
        "import zipfile\n",
        "import os\n",
        "from pathlib import Path\n",
        "\n",
        "\n",
        "data_path = Path('data/')\n",
        "image_path = data_path / 'pizza_steak_sushi'\n",
        "\n",
        "\n",
        "if image_path.is_dir():\n",
        "  print('Directory exists.')\n",
        "else:\n",
        "  print('Creating directory...')\n",
        "  image_path.mkdir(parents=True, exist_ok=True)\n",
        "\n",
        "with open(data_path / 'pizza_steak_sushi.zip', 'wb') as f:\n",
        "  print('Downloading data...')\n",
        "  response = requests.get('https://github.com/mrdbourke/pytorch-deep-learning/raw/main/data/pizza_steak_sushi.zip')\n",
        "  f.write(response.content)\n",
        "\n",
        "with zipfile.ZipFile(data_path / 'pizza_steak_sushi.zip', 'r') as zf:\n",
        "  print(f'Extracting data in {image_path}')\n",
        "  zf.extractall(image_path)\n",
        "\n",
        "os.remove(data_path / 'pizza_steak_sushi.zip')"
      ],
      "metadata": {
        "id": "r0BCn1XIYZ8c",
        "colab": {
          "base_uri": "https://localhost:8080/"
        },
        "outputId": "73813f05-62ad-4ea9-931b-bb44b0733cc3"
      },
      "execution_count": 4,
      "outputs": [
        {
          "output_type": "stream",
          "name": "stdout",
          "text": [
            "Overwriting get_data.py\n"
          ]
        }
      ]
    },
    {
      "cell_type": "code",
      "source": [
        "# Example running of get_data.py\n",
        "!python get_data.py"
      ],
      "metadata": {
        "id": "_LrUOIC-YOP9",
        "colab": {
          "base_uri": "https://localhost:8080/"
        },
        "outputId": "45b67e5d-559f-4bb6-bb22-31cd50c4a053"
      },
      "execution_count": 5,
      "outputs": [
        {
          "output_type": "stream",
          "name": "stdout",
          "text": [
            "Creating directory...\n",
            "Downloading data...\n",
            "Extracting data in data/pizza_steak_sushi\n"
          ]
        }
      ]
    },
    {
      "cell_type": "code",
      "source": [
        "!ls data/pizza_steak_sushi"
      ],
      "metadata": {
        "colab": {
          "base_uri": "https://localhost:8080/"
        },
        "id": "siPXl7dW1bby",
        "outputId": "ad096f23-9d34-41d5-e65c-f11886e8fce8"
      },
      "execution_count": 6,
      "outputs": [
        {
          "output_type": "stream",
          "name": "stdout",
          "text": [
            "test  train\n"
          ]
        }
      ]
    },
    {
      "cell_type": "markdown",
      "source": [
        "## 2. Use [Python's `argparse` module](https://docs.python.org/3/library/argparse.html) to be able to send the `train.py` custom hyperparameter values for training procedures.\n",
        "* Add an argument flag for using a different:\n",
        "  * Training/testing directory\n",
        "  * Learning rate\n",
        "  * Batch size\n",
        "  * Number of epochs to train for\n",
        "  * Number of hidden units in the TinyVGG model\n",
        "    * Keep the default values for each of the above arguments as what they already are (as in notebook 05).\n",
        "* For example, you should be able to run something similar to the following line to train a TinyVGG model with a learning rate of 0.003 and a batch size of 64 for 20 epochs: `python train.py --learning_rate 0.003 batch_size 64 num_epochs 20`.\n",
        "* **Note:** Since `train.py` leverages the other scripts we created in section 05, such as, `model_builder.py`, `utils.py` and `engine.py`, you'll have to make sure they're available to use too. You can find these in the [`going_modular` folder on the course GitHub](https://github.com/mrdbourke/pytorch-deep-learning/tree/main/going_modular/going_modular). "
      ],
      "metadata": {
        "id": "zjyn7LU3mvkR"
      }
    },
    {
      "cell_type": "code",
      "source": [
        "# install files\n",
        "import requests\n",
        "\n",
        "data_setup_url = 'https://raw.githubusercontent.com/mrdbourke/pytorch-deep-learning/main/going_modular/going_modular/data_setup.py'\n",
        "engine_url = 'https://raw.githubusercontent.com/mrdbourke/pytorch-deep-learning/main/going_modular/going_modular/engine.py'\n",
        "model_url = 'https://raw.githubusercontent.com/mrdbourke/pytorch-deep-learning/main/going_modular/going_modular/model_builder.py'\n",
        "save_model_url = 'https://raw.githubusercontent.com/mrdbourke/pytorch-deep-learning/main/going_modular/going_modular/utils.py'\n",
        "utils_url = 'https://raw.githubusercontent.com/mrdbourke/pytorch-deep-learning/main/going_modular/going_modular/utils.py'\n",
        "\n",
        "# data_setup.py\n",
        "with open('data_setup.py', 'wb') as f:\n",
        "  response = requests.get(data_setup_url)\n",
        "  f.write(response.content)\n",
        "\n",
        "with open('engine.py', 'wb') as f:\n",
        "  response = requests.get(engine_url)\n",
        "  f.write(response.content)\n",
        "\n",
        "with open('model_builder.py', 'wb') as f:\n",
        "  response = requests.get(model_url)\n",
        "  f.write(response.content)\n",
        "\n",
        "with open('save_model.py', 'wb') as f:\n",
        "  response = requests.get(save_model_url)\n",
        "  f.write(response.content)\n",
        "  \n",
        "with open('utils.py', 'wb') as f:\n",
        "  response = requests.get(utils_url)\n",
        "  f.write(response.content)"
      ],
      "metadata": {
        "id": "rqyglrxh1wCk"
      },
      "execution_count": 14,
      "outputs": []
    },
    {
      "cell_type": "code",
      "source": [
        "! ls data/pizza_steak_sushi/train/pizza"
      ],
      "metadata": {
        "colab": {
          "base_uri": "https://localhost:8080/"
        },
        "id": "qZpVEKB02vyu",
        "outputId": "caaab3b3-6e97-4b6b-abda-6938883cf7f8"
      },
      "execution_count": 24,
      "outputs": [
        {
          "output_type": "stream",
          "name": "stdout",
          "text": [
            "1008844.jpg  1654444.jpg  2291093.jpg  2785084.jpg  320570.jpg\t 5764.jpg\n",
            "1033251.jpg  1660415.jpg  2330965.jpg  2800325.jpg  3269634.jpg  618348.jpg\n",
            "1044789.jpg  1899785.jpg  2382016.jpg  2811032.jpg  3281494.jpg  667309.jpg\n",
            "1089334.jpg  1947572.jpg  2426686.jpg  2821048.jpg  3338774.jpg  68684.jpg\n",
            "1105700.jpg  1968947.jpg  2428085.jpg  2885050.jpg  3441394.jpg  702165.jpg\n",
            "12301.jpg    2026009.jpg  244505.jpg   2885796.jpg  3505182.jpg  715169.jpg\n",
            "1285298.jpg  2121603.jpg  2451169.jpg  2924941.jpg  3530210.jpg  739735.jpg\n",
            "138855.jpg   2154394.jpg  2493954.jpg  29417.jpg    3589437.jpg  741883.jpg\n",
            "1412034.jpg  218711.jpg   2569760.jpg  2992084.jpg  3699992.jpg  764429.jpg\n",
            "1524655.jpg  2190018.jpg  2576168.jpg  300869.jpg   3821701.jpg  765799.jpg\n",
            "1572608.jpg  220190.jpg   2687575.jpg  3018077.jpg  38349.jpg\t 786995.jpg\n",
            "1633289.jpg  2228322.jpg  2702825.jpg  3109486.jpg  3860002.jpg  853441.jpg\n",
            "1649276.jpg  2285942.jpg  2760984.jpg  3196721.jpg  393658.jpg\t 928670.jpg\n"
          ]
        }
      ]
    },
    {
      "cell_type": "code",
      "source": [
        "!ls"
      ],
      "metadata": {
        "colab": {
          "base_uri": "https://localhost:8080/"
        },
        "id": "HvqWruQA9-Gj",
        "outputId": "3e826e65-5e72-4ff6-fd73-e0eb6eeaca8f"
      },
      "execution_count": 11,
      "outputs": [
        {
          "output_type": "stream",
          "name": "stdout",
          "text": [
            "data\t       engine.py    model_builder.py  save_model.py\n",
            "data_setup.py  get_data.py  sample_data\n"
          ]
        }
      ]
    },
    {
      "cell_type": "code",
      "source": [
        "# YOUR CODE HERE\n",
        "%%writefile train.py\n",
        "\n",
        "import torch\n",
        "from torchvision import transforms\n",
        "\n",
        "from argparse import ArgumentParser\n",
        "\n",
        "from data_setup import create_dataloaders\n",
        "from engine import train\n",
        "from model_builder import TinyVGG\n",
        "from get_data import image_path\n",
        "from utils import save_model\n",
        "\n",
        "device = 'cuda' if torch.cuda.is_available() else 'cpu'\n",
        "\n",
        "parser = ArgumentParser()\n",
        "\n",
        "parser.add_argument('--num_epochs',\n",
        "                    default=5,\n",
        "                    type=int\n",
        "                    )\n",
        "parser.add_argument('--batch_size',\n",
        "                    default=64,\n",
        "                    type=int\n",
        "                    )\n",
        "parser.add_argument('--hidden_units',\n",
        "                    default='10',\n",
        "                    type=int\n",
        "                    )\n",
        "parser.add_argument('--learning_rate',\n",
        "                    default=0.001,\n",
        "                    type=float\n",
        "                    )\n",
        "parser.add_argument('--train_dir',\n",
        "                    default='data/pizza_steak_sushi/train',\n",
        "                    type=str)\n",
        "parser.add_argument('--test_dir',\n",
        "                    default='data/pizza_steak_sushi/test',\n",
        "                    type=str)\n",
        "\n",
        "args = parser.parse_args()\n",
        "\n",
        "data_transform = transforms.Compose([\n",
        "    transforms.Resize((64, 64)),\n",
        "    transforms.ToTensor()\n",
        "])\n",
        "\n",
        "train_dl, test_dl, classnames = create_dataloaders(\n",
        "    train_dir=args.train_dir,\n",
        "    test_dir=args.test_dir,\n",
        "    transform=data_transform,\n",
        "    batch_size=args.batch_size\n",
        ")\n",
        "\n",
        "model = TinyVGG(\n",
        "    input_shape=3,\n",
        "    hidden_units=args.hidden_units,\n",
        "    output_shape=len(classnames)\n",
        ").to(device)\n",
        "\n",
        "optimizer = torch.optim.Adam(params=model.parameters(), lr=args.learning_rate)\n",
        "loss_fn = torch.nn.CrossEntropyLoss()\n",
        "\n",
        "results = train(\n",
        "    model=model,\n",
        "    train_dataloader=train_dl,\n",
        "    test_dataloader=test_dl,\n",
        "    optimizer=optimizer,\n",
        "    loss_fn=loss_fn,\n",
        "    device=device,\n",
        "    epochs=args.num_epochs\n",
        ")\n",
        "print(classnames)\n",
        "save_model(\n",
        "    model=model,\n",
        "    target_dir='models',\n",
        "    model_name='t_vgg.pth'\n",
        ")"
      ],
      "metadata": {
        "id": "MKNDUp45YaW-",
        "colab": {
          "base_uri": "https://localhost:8080/"
        },
        "outputId": "b8dab1d4-73f7-41b6-ad0c-d0f814cb500c"
      },
      "execution_count": 29,
      "outputs": [
        {
          "output_type": "stream",
          "name": "stdout",
          "text": [
            "Overwriting train.py\n"
          ]
        }
      ]
    },
    {
      "cell_type": "code",
      "source": [
        "# Example running of train.py\n",
        "!python train.py --num_epochs 5 --batch_size 128 --hidden_units 128 --learning_rate 0.0003"
      ],
      "metadata": {
        "id": "LzaJl39lC40N",
        "colab": {
          "base_uri": "https://localhost:8080/"
        },
        "outputId": "2e8acb11-264b-4fba-f1fa-988471df2d03"
      },
      "execution_count": 30,
      "outputs": [
        {
          "output_type": "stream",
          "name": "stdout",
          "text": [
            "Directory exists.\n",
            "Downloading data...\n",
            "Extracting data in data/pizza_steak_sushi\n",
            "  0% 0/5 [00:00<?, ?it/s]Epoch: 1 | train_loss: 1.1009 | train_acc: 0.3356 | test_loss: 1.0877 | test_acc: 0.3733\n",
            " 20% 1/5 [00:03<00:13,  3.28s/it]Epoch: 2 | train_loss: 1.0885 | train_acc: 0.4112 | test_loss: 1.0877 | test_acc: 0.3733\n",
            " 40% 2/5 [00:05<00:08,  2.84s/it]Epoch: 3 | train_loss: 1.0635 | train_acc: 0.4660 | test_loss: 1.0617 | test_acc: 0.3733\n",
            " 60% 3/5 [00:07<00:05,  2.54s/it]Epoch: 4 | train_loss: 1.0158 | train_acc: 0.5621 | test_loss: 1.0151 | test_acc: 0.4533\n",
            " 80% 4/5 [00:09<00:02,  2.27s/it]Epoch: 5 | train_loss: 0.9461 | train_acc: 0.6022 | test_loss: 1.0099 | test_acc: 0.4400\n",
            "100% 5/5 [00:11<00:00,  2.35s/it]\n",
            "['pizza', 'steak', 'sushi']\n",
            "[INFO] Saving model to: models/t_vgg.pth\n"
          ]
        }
      ]
    },
    {
      "cell_type": "markdown",
      "source": [
        "## 3. Create a Python script to predict (such as `predict.py`) on a target image given a file path with a saved model.\n",
        "\n",
        "* For example, you should be able to run the command `python predict.py some_image.jpeg` and have a trained PyTorch model predict on the image and return its prediction.\n",
        "* To see example prediction code, check out the [predicting on a custom image section in notebook 04](https://www.learnpytorch.io/04_pytorch_custom_datasets/#113-putting-custom-image-prediction-together-building-a-function). \n",
        "* You may also have to write code to load in a trained model."
      ],
      "metadata": {
        "id": "P2g6EEYvm-46"
      }
    },
    {
      "cell_type": "code",
      "source": [
        "# YOUR CODE HERE\n",
        "%%writefile predict.py\n",
        "\n",
        "import torch\n",
        "from torchvision import transforms\n",
        "from PIL import Image\n",
        "import matplotlib.pyplot as plt\n",
        "\n",
        "from argparse import ArgumentParser\n",
        "\n",
        "from model_builder import TinyVGG\n",
        "\n",
        "parser = ArgumentParser()\n",
        "\n",
        "parser.add_argument('--model_path',\n",
        "                    default='models/t_vgg.pth',\n",
        "                    type=str)\n",
        "parser.add_argument('--image')\n",
        "\n",
        "args = parser.parse_args()\n",
        "\n",
        "model = TinyVGG(\n",
        "    input_shape=3,\n",
        "    hidden_units=128,\n",
        "    output_shape=3\n",
        ")\n",
        "\n",
        "model.load_state_dict(torch.load(args.model_path))\n",
        "\n",
        "transform = transforms.Compose([\n",
        "    transforms.Resize((64, 64)),\n",
        "    transforms.ToTensor()\n",
        "])\n",
        "\n",
        "img = Image.open(args.image)\n",
        "\n",
        "t_img = transform(img).type(torch.float) / 255\n",
        "\n",
        "logits = model(t_img.unsqueeze(0))\n",
        "label = logits.argmax(dim=1)\n",
        "print(torch.softmax(logits,dim=1))\n",
        "proba = torch.softmax(logits, dim=1)\n",
        "\n",
        "classnames = ['pizza', 'steak', 'sushi']\n",
        "\n",
        "print(f'Predicted label: {classnames[label]}| Probability: {proba.max():3f}')\n"
      ],
      "metadata": {
        "id": "HU7W6VZfYawP",
        "colab": {
          "base_uri": "https://localhost:8080/"
        },
        "outputId": "d2e96663-4866-4a39-b0a1-a24204d2e9f3"
      },
      "execution_count": 58,
      "outputs": [
        {
          "output_type": "stream",
          "name": "stdout",
          "text": [
            "Overwriting predict.py\n"
          ]
        }
      ]
    },
    {
      "cell_type": "code",
      "source": [
        "# Example running of predict.py \n",
        "!python predict.py --image data/pizza_steak_sushi/test/sushi/175783.jpg"
      ],
      "metadata": {
        "id": "Zcvw9sitIn6r",
        "colab": {
          "base_uri": "https://localhost:8080/"
        },
        "outputId": "4823ea4c-98eb-4813-cced-414fdedf0ba4"
      },
      "execution_count": 59,
      "outputs": [
        {
          "output_type": "stream",
          "name": "stdout",
          "text": [
            "tensor([[0.0823, 0.7171, 0.2006]], grad_fn=<SoftmaxBackward0>)\n",
            "Predicted label: steak| Probability: 0.717075\n"
          ]
        }
      ]
    }
  ]
}