{
  "nbformat": 4,
  "nbformat_minor": 0,
  "metadata": {
    "colab": {
      "provenance": [],
      "authorship_tag": "ABX9TyNjgqLFZb+2GIwm/ifAVb2C",
      "include_colab_link": true
    },
    "kernelspec": {
      "name": "python3",
      "display_name": "Python 3"
    },
    "language_info": {
      "name": "python"
    },
    "accelerator": "GPU",
    "gpuClass": "standard"
  },
  "cells": [
    {
      "cell_type": "markdown",
      "metadata": {
        "id": "view-in-github",
        "colab_type": "text"
      },
      "source": [
        "<a href=\"https://colab.research.google.com/github/numoworld/learnpytorchio/blob/main/03cnn.ipynb\" target=\"_parent\"><img src=\"https://colab.research.google.com/assets/colab-badge.svg\" alt=\"Open In Colab\"/></a>"
      ]
    },
    {
      "cell_type": "code",
      "execution_count": 226,
      "metadata": {
        "id": "gbrW-5SXMc6S"
      },
      "outputs": [],
      "source": [
        "# import libraries\n",
        "import torch\n",
        "import torch.nn as nn\n",
        "from torch.utils.data import DataLoader\n",
        "\n",
        "import torchvision\n",
        "from torchvision import datasets\n",
        "from torchvision.transforms import ToTensor\n",
        "\n",
        "from sklearn.metrics import (precision_score, \n",
        "                             recall_score, \n",
        "                             f1_score,\n",
        "                             confusion_matrix,\n",
        "                             ConfusionMatrixDisplay)\n",
        "\n",
        "import matplotlib.pyplot as plt\n",
        "from tqdm import tqdm\n",
        "\n",
        "from timeit import default_timer as timer\n",
        "from pathlib import Path"
      ]
    },
    {
      "cell_type": "code",
      "source": [
        "# define device\n",
        "device = 'cuda' if torch.cuda.is_available() else 'cpu'"
      ],
      "metadata": {
        "id": "AWBp1ycX29d5"
      },
      "execution_count": 187,
      "outputs": []
    },
    {
      "cell_type": "code",
      "source": [
        "# download dataset\n",
        "train_data = datasets.FashionMNIST(\n",
        "    root='data',\n",
        "    train=True,\n",
        "    download=True,\n",
        "    transform=ToTensor()\n",
        "    )\n",
        "\n",
        "test_data = datasets.FashionMNIST(\n",
        "    root='data',\n",
        "    train=False,\n",
        "    download=True,\n",
        "    transform=ToTensor()\n",
        ")"
      ],
      "metadata": {
        "id": "RSTV2SPo3ENm"
      },
      "execution_count": 188,
      "outputs": []
    },
    {
      "cell_type": "code",
      "source": [
        "# inspect sample\n",
        "image, label = train_data[0]\n",
        "print(image.shape)  # BCHW\n",
        "plt.imshow(image.squeeze(), cmap='gray')"
      ],
      "metadata": {
        "colab": {
          "base_uri": "https://localhost:8080/",
          "height": 300
        },
        "id": "B9t8-27m7JdA",
        "outputId": "37c86a58-8a0e-4f7b-a6ad-1c3d712c9ec2"
      },
      "execution_count": 189,
      "outputs": [
        {
          "output_type": "stream",
          "name": "stdout",
          "text": [
            "torch.Size([1, 28, 28])\n"
          ]
        },
        {
          "output_type": "execute_result",
          "data": {
            "text/plain": [
              "<matplotlib.image.AxesImage at 0x7fcd1b2ba970>"
            ]
          },
          "metadata": {},
          "execution_count": 189
        },
        {
          "output_type": "display_data",
          "data": {
            "text/plain": [
              "<Figure size 432x288 with 1 Axes>"
            ],
            "image/png": "[encoded data removed]"
          },
          "metadata": {
            "needs_background": "light"
          }
        }
      ]
    },
    {
      "cell_type": "code",
      "source": [
        "# look at categories names\n",
        "cat_names = train_data.classes\n",
        "print(cat_names)"
      ],
      "metadata": {
        "colab": {
          "base_uri": "https://localhost:8080/"
        },
        "id": "cxxgDBOo9EpR",
        "outputId": "f5ecfceb-050d-4a66-8c90-54d966c560eb"
      },
      "execution_count": 190,
      "outputs": [
        {
          "output_type": "stream",
          "name": "stdout",
          "text": [
            "['T-shirt/top', 'Trouser', 'Pullover', 'Dress', 'Coat', 'Sandal', 'Shirt', 'Sneaker', 'Bag', 'Ankle boot']\n"
          ]
        }
      ]
    },
    {
      "cell_type": "code",
      "source": [
        "# display random images from set and their categories\n",
        "rows, cols = 3, 3\n",
        "fig = plt.figure(figsize=(9, 9))\n",
        "for i in range(1, rows*cols + 1):\n",
        "  index = torch.randint(high=len(train_data), size=[1]).item()\n",
        "  img, label = train_data[index]\n",
        "  fig.add_subplot(rows, cols, i)\n",
        "  plt.imshow(img.squeeze(), cmap='gray')\n",
        "  plt.title(cat_names[label])\n",
        "  plt.axis(False)"
      ],
      "metadata": {
        "colab": {
          "base_uri": "https://localhost:8080/",
          "height": 536
        },
        "id": "mWVDXki57uhV",
        "outputId": "bd31645a-a480-443b-ff10-1da9c4ae50e1"
      },
      "execution_count": 191,
      "outputs": [
        {
          "output_type": "display_data",
          "data": {
            "text/plain": [
              "<Figure size 648x648 with 9 Axes>"
            ],
            "image/png": "[encoded data removed]"
          },
          "metadata": {
            "needs_background": "light"
          }
        }
      ]
    },
    {
      "cell_type": "code",
      "source": [
        "# create dataloaders\n",
        "BATCH_SIZE = 32\n",
        "\n",
        "train_dl = DataLoader(\n",
        "    dataset=train_data,\n",
        "    batch_size=BATCH_SIZE\n",
        ")\n",
        "test_dl = DataLoader(\n",
        "    dataset=test_data,\n",
        "    batch_size=BATCH_SIZE\n",
        ")"
      ],
      "metadata": {
        "id": "mPQNmUg7-Twm"
      },
      "execution_count": 192,
      "outputs": []
    },
    {
      "cell_type": "code",
      "source": [
        "# inspect batches\n",
        "bx, by = next(iter(train_dl))\n",
        "bx.shape, by.shape, bx.device"
      ],
      "metadata": {
        "colab": {
          "base_uri": "https://localhost:8080/"
        },
        "id": "d-gyKBSrGOAp",
        "outputId": "aae16cb9-c2ab-44e8-c0ce-382c20331c41"
      },
      "execution_count": 193,
      "outputs": [
        {
          "output_type": "execute_result",
          "data": {
            "text/plain": [
              "(torch.Size([32, 1, 28, 28]), torch.Size([32]), device(type='cpu'))"
            ]
          },
          "metadata": {},
          "execution_count": 193
        }
      ]
    },
    {
      "cell_type": "code",
      "source": [
        "# implement TinyVGG\n",
        "class FashionModelV0(nn.Module):\n",
        "    def __init__(self, in_channels, out_shape, hidden_units=10):\n",
        "        super().__init__()\n",
        "        self.block_1 = nn.Sequential(\n",
        "            nn.Conv2d(in_channels=in_channels, out_channels=hidden_units, kernel_size=3, padding=1), \n",
        "            nn.ReLU(),\n",
        "            nn.Conv2d(in_channels=hidden_units, out_channels=hidden_units, kernel_size=3, padding=1),\n",
        "            nn.ReLU(),\n",
        "            nn.MaxPool2d(kernel_size=2)\n",
        "        )\n",
        "        self.block_2 = nn.Sequential(\n",
        "            nn.Conv2d(in_channels=hidden_units, out_channels=hidden_units, kernel_size=3, padding=1), \n",
        "            nn.ReLU(),\n",
        "            nn.Conv2d(in_channels=hidden_units, out_channels=hidden_units, kernel_size=3, padding=1),\n",
        "            nn.ReLU(),\n",
        "            nn.MaxPool2d(kernel_size=2)\n",
        "        )\n",
        "        self.classifier = nn.Sequential(\n",
        "            nn.Flatten(),\n",
        "            # look for generalized standard\n",
        "            nn.Linear(in_features=hidden_units*7*7, out_features=out_shape)\n",
        "        )\n",
        "    def forward(self, x):\n",
        "        x = self.block_1(x)\n",
        "        # print(x.shape)\n",
        "        x = self.block_2(x)\n",
        "        # print(x.shape)\n",
        "        return self.classifier(x)\n",
        "\n",
        "torch.manual_seed(721)\n",
        "model_0 = FashionModelV0(in_channels=1, out_shape=10).to(device)\n",
        "model_0"
      ],
      "metadata": {
        "colab": {
          "base_uri": "https://localhost:8080/"
        },
        "id": "q0LLgKkSGi0E",
        "outputId": "faefab76-7a7e-4ade-b22b-07d9e06fca73"
      },
      "execution_count": 194,
      "outputs": [
        {
          "output_type": "execute_result",
          "data": {
            "text/plain": [
              "FashionModelV0(\n",
              "  (block_1): Sequential(\n",
              "    (0): Conv2d(1, 10, kernel_size=(3, 3), stride=(1, 1), padding=(1, 1))\n",
              "    (1): ReLU()\n",
              "    (2): Conv2d(10, 10, kernel_size=(3, 3), stride=(1, 1), padding=(1, 1))\n",
              "    (3): ReLU()\n",
              "    (4): MaxPool2d(kernel_size=2, stride=2, padding=0, dilation=1, ceil_mode=False)\n",
              "  )\n",
              "  (block_2): Sequential(\n",
              "    (0): Conv2d(10, 10, kernel_size=(3, 3), stride=(1, 1), padding=(1, 1))\n",
              "    (1): ReLU()\n",
              "    (2): Conv2d(10, 10, kernel_size=(3, 3), stride=(1, 1), padding=(1, 1))\n",
              "    (3): ReLU()\n",
              "    (4): MaxPool2d(kernel_size=2, stride=2, padding=0, dilation=1, ceil_mode=False)\n",
              "  )\n",
              "  (classifier): Sequential(\n",
              "    (0): Flatten(start_dim=1, end_dim=-1)\n",
              "    (1): Linear(in_features=490, out_features=10, bias=True)\n",
              "  )\n",
              ")"
            ]
          },
          "metadata": {},
          "execution_count": 194
        }
      ]
    },
    {
      "cell_type": "code",
      "source": [
        "# initialize loss function and optimizer\n",
        "loss_fn = nn.CrossEntropyLoss()\n",
        "optimizer = torch.optim.SGD(params=model_0.parameters(), lr=0.1)"
      ],
      "metadata": {
        "id": "V6RhNImDnmf0"
      },
      "execution_count": 195,
      "outputs": []
    },
    {
      "cell_type": "code",
      "source": [
        "# define accuracy metric function\n",
        "def acc_fn(pred, target):\n",
        "    return (pred == target).sum() / len(pred) * 100"
      ],
      "metadata": {
        "id": "j-0OlTi9pALW"
      },
      "execution_count": 196,
      "outputs": []
    },
    {
      "cell_type": "code",
      "source": [
        "# define train step function\n",
        "def train_step(\n",
        "    model: torch.nn.Module,\n",
        "    dl: torch.utils.data.DataLoader,\n",
        "    loss_fn: nn.Module,\n",
        "    optimizer: torch.optim.Optimizer,\n",
        "    acc_fn,\n",
        "    device: str\n",
        ") -> None:\n",
        "    print('Training...')\n",
        "    avg_loss, avg_acc = 0, 0\n",
        "    model.train()\n",
        "    for bn, (x, y) in enumerate(dl):\n",
        "        x, y = x.to(device), y.to(device)\n",
        "        \n",
        "        logits = model(x)\n",
        "        preds = torch.softmax(logits, dim=1).argmax(dim=1)\n",
        "\n",
        "        loss = loss_fn(logits, y)\n",
        "        avg_loss += loss\n",
        "\n",
        "        avg_acc += acc_fn(preds, y)\n",
        "\n",
        "        optimizer.zero_grad()\n",
        "\n",
        "        loss.backward()\n",
        "\n",
        "        optimizer.step()\n",
        "        \n",
        "        if bn % 400 == 0:\n",
        "            print(f'Sample {bn*len(x)}/{len(dl.dataset)}')\n",
        "\n",
        "    avg_loss /= len(dl)\n",
        "    avg_acc /= len(dl)\n",
        "    print(f'Train Loss: {avg_loss} | Train Accuracy: {avg_acc}\\n')\n",
        "    \n",
        "# define test step function\n",
        "def test_step(\n",
        "    model: torch.nn.Module,\n",
        "    dl: torch.utils.data.DataLoader,\n",
        "    loss_fn: nn.Module,\n",
        "    acc_fn,\n",
        "    device: str\n",
        ") -> None:\n",
        "    print('Testing...')  # should be validating\n",
        "    avg_loss, avg_acc = 0, 0\n",
        "    model.eval()\n",
        "    with torch.inference_mode():\n",
        "        for bn, (x, y) in enumerate(dl):\n",
        "            x, y = x.to(device), y.to(device)\n",
        "        \n",
        "            logits = model(x)\n",
        "            preds = torch.softmax(logits, dim=1).argmax(dim=1)\n",
        "\n",
        "            loss = loss_fn(logits, y)\n",
        "            avg_loss += loss\n",
        "\n",
        "            avg_acc += acc_fn(preds, y)\n",
        "\n",
        "            if bn % 400 == 0:\n",
        "                print(f'Sample {bn*len(x)}/{len(dl.dataset)}')\n",
        "        \n",
        "        avg_loss /= len(dl)\n",
        "        avg_acc /= len(dl)\n",
        "        print(f'Test Loss: {avg_loss} | Test Accuracy: {avg_acc}\\n')\n",
        "\n"
      ],
      "metadata": {
        "id": "0F8rKenUgKoP"
      },
      "execution_count": 197,
      "outputs": []
    },
    {
      "cell_type": "code",
      "source": [
        "# train loop\n",
        "start_time = timer()\n",
        "\n",
        "n_epochs = 3\n",
        "\n",
        "for epoch in tqdm(range(1, n_epochs + 1)):\n",
        "    print(f'\\nEpoch {epoch}-----\\n')\n",
        "    \n",
        "    # train step\n",
        "    train_step(\n",
        "        model=model_0,\n",
        "        dl=train_dl,\n",
        "        loss_fn=loss_fn,\n",
        "        optimizer=optimizer,\n",
        "        acc_fn=acc_fn,\n",
        "        device=device\n",
        "    )\n",
        "\n",
        "    # test step\n",
        "    test_step(\n",
        "        model=model_0,\n",
        "        dl=train_dl,\n",
        "        loss_fn=loss_fn,\n",
        "        acc_fn=acc_fn,\n",
        "        device=device\n",
        "    )\n",
        "\n",
        "end_time = timer()\n",
        "print(f'Time elapsed(s): {(end_time - start_time):3f}')\n",
        "\n"
      ],
      "metadata": {
        "colab": {
          "base_uri": "https://localhost:8080/"
        },
        "id": "rJf4bo2Vmwq7",
        "outputId": "e878e1b1-25fd-4b05-8303-cbb58575b9c2"
      },
      "execution_count": 198,
      "outputs": [
        {
          "output_type": "stream",
          "name": "stderr",
          "text": [
            "\r  0%|          | 0/3 [00:00<?, ?it/s]"
          ]
        },
        {
          "output_type": "stream",
          "name": "stdout",
          "text": [
            "\n",
            "Epoch 1-----\n",
            "\n",
            "Training...\n",
            "Sample 0/60000\n",
            "Sample 12800/60000\n",
            "Sample 25600/60000\n",
            "Sample 38400/60000\n",
            "Sample 51200/60000\n",
            "Train Loss: 0.5841261744499207 | Train Accuracy: 78.65666961669922\n",
            "\n",
            "Testing...\n",
            "Sample 0/60000\n",
            "Sample 12800/60000\n",
            "Sample 25600/60000\n",
            "Sample 38400/60000\n",
            "Sample 51200/60000\n"
          ]
        },
        {
          "output_type": "stream",
          "name": "stderr",
          "text": [
            "\r 33%|███▎      | 1/3 [00:16<00:33, 16.91s/it]"
          ]
        },
        {
          "output_type": "stream",
          "name": "stdout",
          "text": [
            "Test Loss: 0.3720720112323761 | Test Accuracy: 86.38833618164062\n",
            "\n",
            "\n",
            "Epoch 2-----\n",
            "\n",
            "Training...\n",
            "Sample 0/60000\n",
            "Sample 12800/60000\n",
            "Sample 25600/60000\n",
            "Sample 38400/60000\n",
            "Sample 51200/60000\n",
            "Train Loss: 0.35466471314430237 | Train Accuracy: 87.06500244140625\n",
            "\n",
            "Testing...\n",
            "Sample 0/60000\n",
            "Sample 12800/60000\n",
            "Sample 25600/60000\n",
            "Sample 38400/60000\n",
            "Sample 51200/60000\n"
          ]
        },
        {
          "output_type": "stream",
          "name": "stderr",
          "text": [
            "\r 67%|██████▋   | 2/3 [00:34<00:17, 17.26s/it]"
          ]
        },
        {
          "output_type": "stream",
          "name": "stdout",
          "text": [
            "Test Loss: 0.3135056495666504 | Test Accuracy: 88.71500396728516\n",
            "\n",
            "\n",
            "Epoch 3-----\n",
            "\n",
            "Training...\n",
            "Sample 0/60000\n",
            "Sample 12800/60000\n",
            "Sample 25600/60000\n",
            "Sample 38400/60000\n",
            "Sample 51200/60000\n",
            "Train Loss: 0.3185146152973175 | Train Accuracy: 88.4183349609375\n",
            "\n",
            "Testing...\n",
            "Sample 0/60000\n",
            "Sample 12800/60000\n",
            "Sample 25600/60000\n",
            "Sample 38400/60000\n",
            "Sample 51200/60000\n"
          ]
        },
        {
          "output_type": "stream",
          "name": "stderr",
          "text": [
            "100%|██████████| 3/3 [00:52<00:00, 17.61s/it]"
          ]
        },
        {
          "output_type": "stream",
          "name": "stdout",
          "text": [
            "Test Loss: 0.29445093870162964 | Test Accuracy: 89.29499816894531\n",
            "\n",
            "Time elapsed(s): 52.829169\n"
          ]
        },
        {
          "output_type": "stream",
          "name": "stderr",
          "text": [
            "\n"
          ]
        }
      ]
    },
    {
      "cell_type": "code",
      "source": [
        "# get other metrics\n",
        "\n",
        "model_0.eval()\n",
        "preds=[]\n",
        "with torch.inference_mode():\n",
        "    for x, y in tqdm(test_dl, desc='Making predictions.'):\n",
        "        x, y = x.to(device), y.to(device)\n",
        "        logits = model_0(x)\n",
        "        batch_preds = torch.softmax(logits, dim=1).argmax(dim=1)\n",
        "        preds.append(batch_preds.cpu())\n",
        "\n",
        "preds = torch.cat(preds)"
      ],
      "metadata": {
        "colab": {
          "base_uri": "https://localhost:8080/"
        },
        "id": "lIiiByKQvA0o",
        "outputId": "66d6cd6e-e8d2-485c-d95c-f9caa9d99faa"
      },
      "execution_count": 201,
      "outputs": [
        {
          "output_type": "stream",
          "name": "stderr",
          "text": [
            "Making predictions.: 100%|██████████| 313/313 [00:02<00:00, 148.60it/s]\n"
          ]
        }
      ]
    },
    {
      "cell_type": "code",
      "source": [
        "# plot confusion matrixa\n",
        "cm = confusion_matrix(test_dl.dataset.targets, preds)\n",
        "\n",
        "disp = ConfusionMatrixDisplay(\n",
        "    confusion_matrix=cm, \n",
        "    display_labels=test_dl.dataset.classes\n",
        "    )\n",
        "disp.plot(\n",
        "    xticks_rotation='vertical',\n",
        "    cmap='PuBuGn'\n",
        "    )\n",
        "\n",
        "plt.show()"
      ],
      "metadata": {
        "colab": {
          "base_uri": "https://localhost:8080/",
          "height": 323
        },
        "id": "vY_DknTmxA2E",
        "outputId": "8e78e53a-b212-40d4-a0d0-2d2cef8db4a4"
      },
      "execution_count": 224,
      "outputs": [
        {
          "output_type": "display_data",
          "data": {
            "text/plain": [
              "<Figure size 432x288 with 2 Axes>"
            ],
            "image/png": "[encoded data removed]"
          },
          "metadata": {
            "needs_background": "light"
          }
        }
      ]
    },
    {
      "cell_type": "code",
      "source": [
        "# saving model\n",
        "\n",
        "MODELS_DIR = Path('models')\n",
        "MODELS_DIR.mkdir(parents=True, exist_ok=True)\n",
        "\n",
        "MODEL_NAME = 'CNN_FashionMNIST_Model_V0.pth'\n",
        "MODEL_PATH = MODELS_DIR / MODEL_NAME\n",
        "\n",
        "torch.save(obj=model_0.state_dict(), f=MODEL_PATH)\n",
        "!ls models"
      ],
      "metadata": {
        "colab": {
          "base_uri": "https://localhost:8080/"
        },
        "id": "VVGNSOXA6Umm",
        "outputId": "c86fb17a-d06e-4d76-9500-f353e947d4be"
      },
      "execution_count": 231,
      "outputs": [
        {
          "output_type": "stream",
          "name": "stdout",
          "text": [
            "CNN_FashionMNIST_Model_V0.pth\n"
          ]
        }
      ]
    },
    {
      "cell_type": "code",
      "source": [
        "# loading model to check\n",
        "\n",
        "loaded_model = FashionModelV0(in_channels=1, out_shape=10)\n",
        "\n",
        "loaded_model.load_state_dict(torch.load(f=MODEL_PATH))\n",
        "\n",
        "loaded_model.to(device)"
      ],
      "metadata": {
        "colab": {
          "base_uri": "https://localhost:8080/"
        },
        "id": "0QQ6KMGX7g1k",
        "outputId": "fd7f0831-421d-4a30-90f5-a33f2e6d2e23"
      },
      "execution_count": 233,
      "outputs": [
        {
          "output_type": "execute_result",
          "data": {
            "text/plain": [
              "FashionModelV0(\n",
              "  (block_1): Sequential(\n",
              "    (0): Conv2d(1, 10, kernel_size=(3, 3), stride=(1, 1), padding=(1, 1))\n",
              "    (1): ReLU()\n",
              "    (2): Conv2d(10, 10, kernel_size=(3, 3), stride=(1, 1), padding=(1, 1))\n",
              "    (3): ReLU()\n",
              "    (4): MaxPool2d(kernel_size=2, stride=2, padding=0, dilation=1, ceil_mode=False)\n",
              "  )\n",
              "  (block_2): Sequential(\n",
              "    (0): Conv2d(10, 10, kernel_size=(3, 3), stride=(1, 1), padding=(1, 1))\n",
              "    (1): ReLU()\n",
              "    (2): Conv2d(10, 10, kernel_size=(3, 3), stride=(1, 1), padding=(1, 1))\n",
              "    (3): ReLU()\n",
              "    (4): MaxPool2d(kernel_size=2, stride=2, padding=0, dilation=1, ceil_mode=False)\n",
              "  )\n",
              "  (classifier): Sequential(\n",
              "    (0): Flatten(start_dim=1, end_dim=-1)\n",
              "    (1): Linear(in_features=490, out_features=10, bias=True)\n",
              "  )\n",
              ")"
            ]
          },
          "metadata": {},
          "execution_count": 233
        }
      ]
    },
    {
      "cell_type": "code",
      "source": [
        "# verify loaded model\n",
        "loaded_model.eval()\n",
        "loaded_model_preds=[]\n",
        "with torch.inference_mode():\n",
        "    for x, y in tqdm(test_dl, desc='Making predictions.'):\n",
        "        x, y = x.to(device), y.to(device)\n",
        "        logits = loaded_model(x)\n",
        "        batch_preds = torch.softmax(logits, dim=1).argmax(dim=1)\n",
        "        loaded_model_preds.append(batch_preds.cpu())\n",
        "\n",
        "loaded_model_preds = torch.cat(loaded_model_preds)"
      ],
      "metadata": {
        "colab": {
          "base_uri": "https://localhost:8080/"
        },
        "id": "xO20b4BX79oc",
        "outputId": "6af7281b-7815-4cb0-cf75-81376810b6bc"
      },
      "execution_count": 236,
      "outputs": [
        {
          "output_type": "stream",
          "name": "stderr",
          "text": [
            "Making predictions.: 100%|██████████| 313/313 [00:02<00:00, 149.21it/s]\n"
          ]
        }
      ]
    },
    {
      "cell_type": "code",
      "source": [
        "(preds == loaded_model_preds).all()"
      ],
      "metadata": {
        "colab": {
          "base_uri": "https://localhost:8080/"
        },
        "id": "H13umAWl8hYo",
        "outputId": "183fb921-691e-4962-80c2-a0f9b842b8f6"
      },
      "execution_count": 240,
      "outputs": [
        {
          "output_type": "execute_result",
          "data": {
            "text/plain": [
              "tensor(True)"
            ]
          },
          "metadata": {},
          "execution_count": 240
        }
      ]
    }
  ]
}